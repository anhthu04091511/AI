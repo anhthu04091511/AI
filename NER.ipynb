{
 "cells": [
  {
   "cell_type": "code",
   "execution_count": 1,
   "id": "3a121633",
   "metadata": {},
   "outputs": [],
   "source": [
    "import re\n",
    "import nltk\n",
    "import json\n",
    "import math\n",
    "import pandas as pd\n",
    "import numpy as np\n",
    "from underthesea import word_tokenize\n",
    "from sklearn.metrics import accuracy_score, f1_score\n",
    "\n",
    "import warnings\n",
    "warnings.filterwarnings(\"ignore\")"
   ]
  },
  {
   "cell_type": "markdown",
   "id": "f7c07f75",
   "metadata": {},
   "source": [
    "# 1. Tiền xử lý dữ liệu"
   ]
  },
  {
   "cell_type": "markdown",
   "id": "d92a75a8",
   "metadata": {},
   "source": [
    "## 1.1 Đọc dữ liệu"
   ]
  },
  {
   "cell_type": "code",
   "execution_count": 2,
   "id": "2e820e2a",
   "metadata": {},
   "outputs": [
    {
     "name": "stdout",
     "output_type": "stream",
     "text": [
      "len train: 5027\n",
      "len test: 3000\n",
      "{'words': ['Đồng_thời', ',', 'bệnh_viện', 'tiếp_tục', 'thực_hiện', 'các', 'biện_pháp', 'phòng_chống', 'dịch_bệnh', 'COVID', '-', '19', 'theo', 'hướng_dẫn', 'của', 'Bộ', 'Y_tế', '.'], 'tags': ['O', 'O', 'O', 'O', 'O', 'O', 'O', 'O', 'O', 'O', 'O', 'O', 'O', 'O', 'O', 'B-ORGANIZATION', 'I-ORGANIZATION', 'O']}\n"
     ]
    }
   ],
   "source": [
    "def readFile(file_name):\n",
    "    lines = []\n",
    "    with open(file_name, 'r', encoding= 'utf-8') as f:\n",
    "        for line in f:\n",
    "            lines.append(json.loads(line))\n",
    "    return lines\n",
    "\n",
    "train_lines = readFile('./dataset/NER/train_word.json')\n",
    "test_lines = readFile('./dataset/NER/test_word.json')\n",
    "\n",
    "print('len train:', len(train_lines))\n",
    "print('len test:', len(test_lines))\n",
    "print(train_lines[0])"
   ]
  },
  {
   "cell_type": "markdown",
   "id": "d3effcae",
   "metadata": {},
   "source": [
    "## 1.2 Tách dữ liệu thành các sentences, tags"
   ]
  },
  {
   "cell_type": "code",
   "execution_count": 3,
   "id": "3a036294",
   "metadata": {},
   "outputs": [],
   "source": [
    "def split_sentences_tags(data):\n",
    "    sentences = []\n",
    "    tags = []\n",
    "    for line in data:        # line = 'Trên/E đường/N đi/V'\n",
    "        sentences.append(line['words'])\n",
    "        tags.append(line['tags'])\n",
    "    return sentences, tags\n",
    "\n",
    "###############################################################\n",
    "train_sentences, train_tags = split_sentences_tags(train_lines)\n",
    "test_sentences, test_tags = split_sentences_tags(test_lines)"
   ]
  },
  {
   "cell_type": "code",
   "execution_count": 4,
   "id": "7722bf07",
   "metadata": {},
   "outputs": [
    {
     "name": "stdout",
     "output_type": "stream",
     "text": [
      "5027\n",
      "['Đồng_thời', ',', 'bệnh_viện', 'tiếp_tục', 'thực_hiện', 'các', 'biện_pháp', 'phòng_chống', 'dịch_bệnh', 'COVID', '-', '19', 'theo', 'hướng_dẫn', 'của', 'Bộ', 'Y_tế', '.']\n",
      "['O', 'O', 'O', 'O', 'O', 'O', 'O', 'O', 'O', 'O', 'O', 'O', 'O', 'O', 'O', 'B-ORGANIZATION', 'I-ORGANIZATION', 'O']\n",
      "\n",
      "['\"', 'Số', 'bệnh_viện', 'có_thể', 'tiếp_nhận', 'bệnh_nhân', 'bị', 'sốt', 'cao', 'và', 'khó', 'thở', 'đang', 'giảm', 'dần', '\"', ',', 'thông_cáo', 'có', 'đoạn', ',', 'cảnh_báo', 'những', 'bệnh_nhân', 'này', 'thay', 'vào', 'đó', 'được', 'chuyển', 'tới', 'các', 'phòng_khám', 'khẩn_cấp', ',', 'khiến', 'những', 'bệnh_nhân', 'mắc', 'bệnh', 'hiểm_nghèo', 'khác', 'không', 'có', 'cơ_hội', 'được', 'điều_trị', '.']\n",
      "['O', 'O', 'O', 'O', 'O', 'O', 'O', 'B-SYMPTOM_AND_DISEASE', 'I-SYMPTOM_AND_DISEASE', 'O', 'B-SYMPTOM_AND_DISEASE', 'I-SYMPTOM_AND_DISEASE', 'O', 'O', 'O', 'O', 'O', 'O', 'O', 'O', 'O', 'O', 'O', 'O', 'O', 'O', 'O', 'O', 'O', 'O', 'O', 'O', 'O', 'O', 'O', 'O', 'O', 'O', 'O', 'O', 'O', 'O', 'O', 'O', 'O', 'O', 'O', 'O']\n",
      "\n",
      "['Ngoài_ra', ',', 'những', 'người', 'tiếp_xúc', 'gián_tiếp', '(', 'đã', 'gặp', 'những', 'người', 'tiếp_xúc', 'gần', 'với', 'bệnh_nhân', ')', 'được', 'lập', 'danh_sách', 'và', 'yêu_cầu', 'cách_ly', 'y_tế', 'tại', 'nơi', 'ở', '.']\n",
      "['O', 'O', 'O', 'O', 'O', 'O', 'O', 'O', 'O', 'O', 'O', 'O', 'O', 'O', 'O', 'O', 'O', 'O', 'O', 'O', 'O', 'O', 'O', 'O', 'O', 'O', 'O']\n",
      "\n"
     ]
    }
   ],
   "source": [
    "print(len(train_sentences))\n",
    "for i in range(3):\n",
    "    print(train_sentences[i])\n",
    "    print(train_tags[i])\n",
    "    print()"
   ]
  },
  {
   "cell_type": "markdown",
   "id": "838b351b",
   "metadata": {},
   "source": [
    "# 2. HMM - Hidden Markov Models"
   ]
  },
  {
   "cell_type": "markdown",
   "id": "ffe84bdf",
   "metadata": {},
   "source": [
    "## 2.1 Tiền xử lý dữ liệu"
   ]
  },
  {
   "cell_type": "code",
   "execution_count": 5,
   "id": "bdbfd1a7",
   "metadata": {},
   "outputs": [
    {
     "data": {
      "text/plain": [
       "['Đồng_thời|O ,|O bệnh_viện|O tiếp_tục|O thực_hiện|O các|O biện_pháp|O phòng_chống|O dịch_bệnh|O COVID|O -|O 19|O theo|O hướng_dẫn|O của|O Bộ|B-ORGANIZATION Y_tế|I-ORGANIZATION .|O',\n",
       " '\"|O Số|O bệnh_viện|O có_thể|O tiếp_nhận|O bệnh_nhân|O bị|O sốt|B-SYMPTOM_AND_DISEASE cao|I-SYMPTOM_AND_DISEASE và|O khó|B-SYMPTOM_AND_DISEASE thở|I-SYMPTOM_AND_DISEASE đang|O giảm|O dần|O \"|O ,|O thông_cáo|O có|O đoạn|O ,|O cảnh_báo|O những|O bệnh_nhân|O này|O thay|O vào|O đó|O được|O chuyển|O tới|O các|O phòng_khám|O khẩn_cấp|O ,|O khiến|O những|O bệnh_nhân|O mắc|O bệnh|O hiểm_nghèo|O khác|O không|O có|O cơ_hội|O được|O điều_trị|O .|O']"
      ]
     },
     "execution_count": 5,
     "metadata": {},
     "output_type": "execute_result"
    }
   ],
   "source": [
    "train_lines_hmm = []\n",
    "for i in range(len(train_sentences)):\n",
    "    sent_words = train_sentences[i]     # [word1, word2, word3,...]\n",
    "    sent_tags = train_tags[i]           # [tag1, tag2, tag3,...]\n",
    "    sent = ' '.join([sent_words[j] + '|' + sent_tags[j] for j in range(len(sent_words))])\n",
    "    train_lines_hmm.append(sent)\n",
    "train_lines_hmm[:2]"
   ]
  },
  {
   "cell_type": "code",
   "execution_count": 6,
   "id": "2e90101e",
   "metadata": {},
   "outputs": [],
   "source": [
    "# chia: tag, tagtag, wordtag\n",
    "def get_tag_tagtag_wordtag(sent):\n",
    "    tag = []\n",
    "    tagtag = []\n",
    "    wordtag = []\n",
    "    wt = sent.split()               # ['word/tag',...]\n",
    "    for i in range(len(wt)-1):\n",
    "        wt1 = wt[i].split('|')      # word1   tag1\n",
    "        wt2 = wt[i+1].split('|')    # word2   tag2\n",
    "        if wt1[1] != '' and wt2[1] != '':\n",
    "            if i==0:\n",
    "                tag.append('T0')\n",
    "                tag.append(wt1[1])\n",
    "                tagtag.append('T0'+'|'+wt1[1])\n",
    "            tag.append(wt2[1])         \n",
    "            tagtag.append(wt1[1]+'|'+wt2[1])        \n",
    "            wordtag.append(wt[i])\n",
    "            if (i == len(wt)-2):\n",
    "                wordtag.append(wt[i+1])\n",
    "        \n",
    "    return tag,tagtag,wordtag"
   ]
  },
  {
   "cell_type": "code",
   "execution_count": 7,
   "id": "626bfd94",
   "metadata": {},
   "outputs": [],
   "source": [
    "# tổng hợp dữ liệu từ file train\n",
    "tag_all=[]\n",
    "tagtag_all=[]\n",
    "wordtag_all=[]\n",
    "for sent in train_lines_hmm:\n",
    "    try:\n",
    "        tag, tagtag, wordtag = get_tag_tagtag_wordtag(sent)\n",
    "    \n",
    "        tag_all.extend(tag)\n",
    "        tagtag_all.extend(tagtag)\n",
    "        wordtag_all.extend(wordtag)\n",
    "    except:\n",
    "        continue"
   ]
  },
  {
   "cell_type": "code",
   "execution_count": 8,
   "id": "579d3763",
   "metadata": {},
   "outputs": [],
   "source": [
    "from collections import Counter\n",
    "# đếm tần suất cho tập Train\n",
    "COUNTER_TAG = Counter(tag_all)\n",
    "COUNTER_TAG_TAG = Counter(tagtag_all)\n",
    "COUNTER_WORD_TAG = Counter(wordtag_all)"
   ]
  },
  {
   "cell_type": "code",
   "execution_count": 9,
   "id": "dd963142",
   "metadata": {},
   "outputs": [
    {
     "name": "stdout",
     "output_type": "stream",
     "text": [
      "21\n",
      "['T0', 'O', 'B-ORGANIZATION', 'I-ORGANIZATION', 'B-SYMPTOM_AND_DISEASE', 'I-SYMPTOM_AND_DISEASE', 'B-LOCATION', 'B-DATE', 'B-PATIENT_ID', 'B-AGE', 'B-NAME', 'I-DATE', 'B-JOB', 'I-LOCATION', 'B-TRANSPORTATION', 'B-GENDER', 'I-TRANSPORTATION', 'I-JOB', 'I-NAME', 'I-AGE', 'I-PATIENT_ID']\n"
     ]
    }
   ],
   "source": [
    "tags = [tag for tag in COUNTER_TAG.keys()]\n",
    "print(len(tags))\n",
    "print(tags)"
   ]
  },
  {
   "cell_type": "code",
   "execution_count": 10,
   "id": "5b6d6f64",
   "metadata": {},
   "outputs": [],
   "source": [
    "# tính tham số model\n",
    "V = len(tag_all)\n",
    "alpha = 0.001\n",
    "# compute  Transition Probability\n",
    "def p_tagtag(tag1,tag2):\n",
    "    tag_tag = '|'.join([tag1,tag2])\n",
    "    return math.log((COUNTER_TAG_TAG[tag_tag] + alpha) / (COUNTER_TAG[tag1] + V*alpha))\n",
    "\n",
    "# compute Emission Probability\n",
    "def p_wordtag(word,tag):\n",
    "    word_tag = '|'.join([word,tag])\n",
    "    return math.log((COUNTER_WORD_TAG[word_tag] + alpha) / (COUNTER_TAG[tag] + V*alpha))"
   ]
  },
  {
   "cell_type": "code",
   "execution_count": 11,
   "id": "8a6549e4",
   "metadata": {},
   "outputs": [
    {
     "data": {
      "text/html": [
       "<div>\n",
       "<style scoped>\n",
       "    .dataframe tbody tr th:only-of-type {\n",
       "        vertical-align: middle;\n",
       "    }\n",
       "\n",
       "    .dataframe tbody tr th {\n",
       "        vertical-align: top;\n",
       "    }\n",
       "\n",
       "    .dataframe thead th {\n",
       "        text-align: right;\n",
       "    }\n",
       "</style>\n",
       "<table border=\"1\" class=\"dataframe\">\n",
       "  <thead>\n",
       "    <tr style=\"text-align: right;\">\n",
       "      <th></th>\n",
       "      <th>T0</th>\n",
       "      <th>O</th>\n",
       "      <th>B-ORGANIZATION</th>\n",
       "      <th>I-ORGANIZATION</th>\n",
       "      <th>B-SYMPTOM_AND_DISEASE</th>\n",
       "      <th>I-SYMPTOM_AND_DISEASE</th>\n",
       "      <th>B-LOCATION</th>\n",
       "      <th>B-DATE</th>\n",
       "      <th>B-PATIENT_ID</th>\n",
       "      <th>B-AGE</th>\n",
       "      <th>...</th>\n",
       "      <th>I-DATE</th>\n",
       "      <th>B-JOB</th>\n",
       "      <th>I-LOCATION</th>\n",
       "      <th>B-TRANSPORTATION</th>\n",
       "      <th>B-GENDER</th>\n",
       "      <th>I-TRANSPORTATION</th>\n",
       "      <th>I-JOB</th>\n",
       "      <th>I-NAME</th>\n",
       "      <th>I-AGE</th>\n",
       "      <th>I-PATIENT_ID</th>\n",
       "    </tr>\n",
       "  </thead>\n",
       "  <tbody>\n",
       "    <tr>\n",
       "      <th>T0</th>\n",
       "      <td>-15.457326</td>\n",
       "      <td>-0.081988</td>\n",
       "      <td>-3.474391</td>\n",
       "      <td>-15.457326</td>\n",
       "      <td>-8.548571</td>\n",
       "      <td>-15.457326</td>\n",
       "      <td>-4.180110</td>\n",
       "      <td>-8.548571</td>\n",
       "      <td>-7.163027</td>\n",
       "      <td>-15.457326</td>\n",
       "      <td>...</td>\n",
       "      <td>-15.457326</td>\n",
       "      <td>-7.450625</td>\n",
       "      <td>-15.457326</td>\n",
       "      <td>-15.457326</td>\n",
       "      <td>-6.151585</td>\n",
       "      <td>-15.457326</td>\n",
       "      <td>-15.457326</td>\n",
       "      <td>-15.457326</td>\n",
       "      <td>-15.457326</td>\n",
       "      <td>-15.457326</td>\n",
       "    </tr>\n",
       "    <tr>\n",
       "      <th>O</th>\n",
       "      <td>-18.468399</td>\n",
       "      <td>-0.216267</td>\n",
       "      <td>-4.691628</td>\n",
       "      <td>-18.468399</td>\n",
       "      <td>-4.298716</td>\n",
       "      <td>-18.468399</td>\n",
       "      <td>-2.986881</td>\n",
       "      <td>-3.718365</td>\n",
       "      <td>-3.478859</td>\n",
       "      <td>-5.114923</td>\n",
       "      <td>...</td>\n",
       "      <td>-18.468399</td>\n",
       "      <td>-6.530200</td>\n",
       "      <td>-18.468399</td>\n",
       "      <td>-6.148993</td>\n",
       "      <td>-5.289654</td>\n",
       "      <td>-18.468399</td>\n",
       "      <td>-18.468399</td>\n",
       "      <td>-18.468399</td>\n",
       "      <td>-18.468399</td>\n",
       "      <td>-18.468399</td>\n",
       "    </tr>\n",
       "    <tr>\n",
       "      <th>B-ORGANIZATION</th>\n",
       "      <td>-14.058094</td>\n",
       "      <td>-3.258498</td>\n",
       "      <td>-14.058094</td>\n",
       "      <td>-0.159161</td>\n",
       "      <td>-14.058094</td>\n",
       "      <td>-14.058094</td>\n",
       "      <td>-14.058094</td>\n",
       "      <td>-14.058094</td>\n",
       "      <td>-14.058094</td>\n",
       "      <td>-14.058094</td>\n",
       "      <td>...</td>\n",
       "      <td>-14.058094</td>\n",
       "      <td>-14.058094</td>\n",
       "      <td>-14.058094</td>\n",
       "      <td>-7.149340</td>\n",
       "      <td>-14.058094</td>\n",
       "      <td>-14.058094</td>\n",
       "      <td>-14.058094</td>\n",
       "      <td>-14.058094</td>\n",
       "      <td>-14.058094</td>\n",
       "      <td>-14.058094</td>\n",
       "    </tr>\n",
       "    <tr>\n",
       "      <th>I-ORGANIZATION</th>\n",
       "      <td>-14.802274</td>\n",
       "      <td>-0.910728</td>\n",
       "      <td>-14.802274</td>\n",
       "      <td>-0.609697</td>\n",
       "      <td>-14.802274</td>\n",
       "      <td>-14.802274</td>\n",
       "      <td>-7.893519</td>\n",
       "      <td>-14.802274</td>\n",
       "      <td>-14.802274</td>\n",
       "      <td>-14.802274</td>\n",
       "      <td>...</td>\n",
       "      <td>-14.802274</td>\n",
       "      <td>-14.802274</td>\n",
       "      <td>-14.802274</td>\n",
       "      <td>-7.893519</td>\n",
       "      <td>-14.802274</td>\n",
       "      <td>-14.802274</td>\n",
       "      <td>-14.802274</td>\n",
       "      <td>-14.802274</td>\n",
       "      <td>-14.802274</td>\n",
       "      <td>-14.802274</td>\n",
       "    </tr>\n",
       "    <tr>\n",
       "      <th>B-SYMPTOM_AND_DISEASE</th>\n",
       "      <td>-14.270742</td>\n",
       "      <td>-1.201777</td>\n",
       "      <td>-14.270742</td>\n",
       "      <td>-14.270742</td>\n",
       "      <td>-5.165651</td>\n",
       "      <td>-0.500228</td>\n",
       "      <td>-14.270742</td>\n",
       "      <td>-14.270742</td>\n",
       "      <td>-14.270742</td>\n",
       "      <td>-14.270742</td>\n",
       "      <td>...</td>\n",
       "      <td>-14.270742</td>\n",
       "      <td>-14.270742</td>\n",
       "      <td>-14.270742</td>\n",
       "      <td>-14.270742</td>\n",
       "      <td>-14.270742</td>\n",
       "      <td>-14.270742</td>\n",
       "      <td>-14.270742</td>\n",
       "      <td>-14.270742</td>\n",
       "      <td>-14.270742</td>\n",
       "      <td>-14.270742</td>\n",
       "    </tr>\n",
       "    <tr>\n",
       "      <th>I-SYMPTOM_AND_DISEASE</th>\n",
       "      <td>-14.339966</td>\n",
       "      <td>-0.570498</td>\n",
       "      <td>-14.339966</td>\n",
       "      <td>-14.339966</td>\n",
       "      <td>-14.339966</td>\n",
       "      <td>-1.041968</td>\n",
       "      <td>-14.339966</td>\n",
       "      <td>-14.339966</td>\n",
       "      <td>-14.339966</td>\n",
       "      <td>-14.339966</td>\n",
       "      <td>...</td>\n",
       "      <td>-14.339966</td>\n",
       "      <td>-14.339966</td>\n",
       "      <td>-14.339966</td>\n",
       "      <td>-14.339966</td>\n",
       "      <td>-14.339966</td>\n",
       "      <td>-14.339966</td>\n",
       "      <td>-14.339966</td>\n",
       "      <td>-14.339966</td>\n",
       "      <td>-14.339966</td>\n",
       "      <td>-14.339966</td>\n",
       "    </tr>\n",
       "    <tr>\n",
       "      <th>B-LOCATION</th>\n",
       "      <td>-15.526699</td>\n",
       "      <td>-0.860610</td>\n",
       "      <td>-8.617945</td>\n",
       "      <td>-15.526699</td>\n",
       "      <td>-15.526699</td>\n",
       "      <td>-15.526699</td>\n",
       "      <td>-15.526699</td>\n",
       "      <td>-8.617945</td>\n",
       "      <td>-15.526699</td>\n",
       "      <td>-15.526699</td>\n",
       "      <td>...</td>\n",
       "      <td>-15.526699</td>\n",
       "      <td>-15.526699</td>\n",
       "      <td>-0.606263</td>\n",
       "      <td>-15.526699</td>\n",
       "      <td>-15.526699</td>\n",
       "      <td>-15.526699</td>\n",
       "      <td>-15.526699</td>\n",
       "      <td>-15.526699</td>\n",
       "      <td>-15.526699</td>\n",
       "      <td>-15.526699</td>\n",
       "    </tr>\n",
       "    <tr>\n",
       "      <th>B-DATE</th>\n",
       "      <td>-14.803764</td>\n",
       "      <td>-0.729742</td>\n",
       "      <td>-7.895009</td>\n",
       "      <td>-14.803764</td>\n",
       "      <td>-7.895009</td>\n",
       "      <td>-14.803764</td>\n",
       "      <td>-14.803764</td>\n",
       "      <td>-14.803764</td>\n",
       "      <td>-14.803764</td>\n",
       "      <td>-14.803764</td>\n",
       "      <td>...</td>\n",
       "      <td>-0.764309</td>\n",
       "      <td>-14.803764</td>\n",
       "      <td>-14.803764</td>\n",
       "      <td>-14.803764</td>\n",
       "      <td>-14.803764</td>\n",
       "      <td>-14.803764</td>\n",
       "      <td>-14.803764</td>\n",
       "      <td>-14.803764</td>\n",
       "      <td>-14.803764</td>\n",
       "      <td>-14.803764</td>\n",
       "    </tr>\n",
       "    <tr>\n",
       "      <th>B-PATIENT_ID</th>\n",
       "      <td>-15.032658</td>\n",
       "      <td>-0.050253</td>\n",
       "      <td>-15.032658</td>\n",
       "      <td>-15.032658</td>\n",
       "      <td>-15.032658</td>\n",
       "      <td>-15.032658</td>\n",
       "      <td>-15.032658</td>\n",
       "      <td>-15.032658</td>\n",
       "      <td>-15.032658</td>\n",
       "      <td>-15.032658</td>\n",
       "      <td>...</td>\n",
       "      <td>-15.032658</td>\n",
       "      <td>-5.927567</td>\n",
       "      <td>-15.032658</td>\n",
       "      <td>-15.032658</td>\n",
       "      <td>-8.123903</td>\n",
       "      <td>-15.032658</td>\n",
       "      <td>-15.032658</td>\n",
       "      <td>-15.032658</td>\n",
       "      <td>-15.032658</td>\n",
       "      <td>-6.332976</td>\n",
       "    </tr>\n",
       "    <tr>\n",
       "      <th>B-AGE</th>\n",
       "      <td>-13.616496</td>\n",
       "      <td>-0.186646</td>\n",
       "      <td>-13.616496</td>\n",
       "      <td>-13.616496</td>\n",
       "      <td>-13.616496</td>\n",
       "      <td>-13.616496</td>\n",
       "      <td>-13.616496</td>\n",
       "      <td>-13.616496</td>\n",
       "      <td>-13.616496</td>\n",
       "      <td>-13.616496</td>\n",
       "      <td>...</td>\n",
       "      <td>-13.616496</td>\n",
       "      <td>-13.616496</td>\n",
       "      <td>-13.616496</td>\n",
       "      <td>-13.616496</td>\n",
       "      <td>-13.616496</td>\n",
       "      <td>-13.616496</td>\n",
       "      <td>-13.616496</td>\n",
       "      <td>-13.616496</td>\n",
       "      <td>-6.015094</td>\n",
       "      <td>-13.616496</td>\n",
       "    </tr>\n",
       "    <tr>\n",
       "      <th>B-NAME</th>\n",
       "      <td>-13.095070</td>\n",
       "      <td>-0.391254</td>\n",
       "      <td>-13.095070</td>\n",
       "      <td>-13.095070</td>\n",
       "      <td>-5.088369</td>\n",
       "      <td>-13.095070</td>\n",
       "      <td>-13.095070</td>\n",
       "      <td>-13.095070</td>\n",
       "      <td>-13.095070</td>\n",
       "      <td>-13.095070</td>\n",
       "      <td>...</td>\n",
       "      <td>-13.095070</td>\n",
       "      <td>-13.095070</td>\n",
       "      <td>-13.095070</td>\n",
       "      <td>-13.095070</td>\n",
       "      <td>-13.095070</td>\n",
       "      <td>-13.095070</td>\n",
       "      <td>-13.095070</td>\n",
       "      <td>-3.622289</td>\n",
       "      <td>-13.095070</td>\n",
       "      <td>-13.095070</td>\n",
       "    </tr>\n",
       "    <tr>\n",
       "      <th>I-DATE</th>\n",
       "      <td>-14.785356</td>\n",
       "      <td>-0.753928</td>\n",
       "      <td>-6.267963</td>\n",
       "      <td>-14.785356</td>\n",
       "      <td>-14.785356</td>\n",
       "      <td>-14.785356</td>\n",
       "      <td>-6.491057</td>\n",
       "      <td>-14.785356</td>\n",
       "      <td>-14.785356</td>\n",
       "      <td>-14.785356</td>\n",
       "      <td>...</td>\n",
       "      <td>-0.747502</td>\n",
       "      <td>-14.785356</td>\n",
       "      <td>-14.785356</td>\n",
       "      <td>-14.785356</td>\n",
       "      <td>-14.785356</td>\n",
       "      <td>-14.785356</td>\n",
       "      <td>-14.785356</td>\n",
       "      <td>-14.785356</td>\n",
       "      <td>-14.785356</td>\n",
       "      <td>-14.785356</td>\n",
       "    </tr>\n",
       "    <tr>\n",
       "      <th>B-JOB</th>\n",
       "      <td>-12.744138</td>\n",
       "      <td>-1.008061</td>\n",
       "      <td>-4.044456</td>\n",
       "      <td>-12.744138</td>\n",
       "      <td>-12.744138</td>\n",
       "      <td>-12.744138</td>\n",
       "      <td>-3.890330</td>\n",
       "      <td>-12.744138</td>\n",
       "      <td>-5.835383</td>\n",
       "      <td>-3.756816</td>\n",
       "      <td>...</td>\n",
       "      <td>-12.744138</td>\n",
       "      <td>-12.744138</td>\n",
       "      <td>-12.744138</td>\n",
       "      <td>-12.744138</td>\n",
       "      <td>-5.835383</td>\n",
       "      <td>-12.744138</td>\n",
       "      <td>-2.122786</td>\n",
       "      <td>-12.744138</td>\n",
       "      <td>-12.744138</td>\n",
       "      <td>-12.744138</td>\n",
       "    </tr>\n",
       "    <tr>\n",
       "      <th>I-LOCATION</th>\n",
       "      <td>-15.498113</td>\n",
       "      <td>-0.585658</td>\n",
       "      <td>-15.498113</td>\n",
       "      <td>-15.498113</td>\n",
       "      <td>-15.498113</td>\n",
       "      <td>-15.498113</td>\n",
       "      <td>-6.510791</td>\n",
       "      <td>-8.589358</td>\n",
       "      <td>-15.498113</td>\n",
       "      <td>-15.498113</td>\n",
       "      <td>...</td>\n",
       "      <td>-15.498113</td>\n",
       "      <td>-15.498113</td>\n",
       "      <td>-0.883744</td>\n",
       "      <td>-15.498113</td>\n",
       "      <td>-15.498113</td>\n",
       "      <td>-15.498113</td>\n",
       "      <td>-15.498113</td>\n",
       "      <td>-15.498113</td>\n",
       "      <td>-15.498113</td>\n",
       "      <td>-15.498113</td>\n",
       "    </tr>\n",
       "    <tr>\n",
       "      <th>B-TRANSPORTATION</th>\n",
       "      <td>-12.803639</td>\n",
       "      <td>-0.796011</td>\n",
       "      <td>-12.803639</td>\n",
       "      <td>-12.803639</td>\n",
       "      <td>-12.803639</td>\n",
       "      <td>-12.803639</td>\n",
       "      <td>-4.286246</td>\n",
       "      <td>-12.803639</td>\n",
       "      <td>-12.803639</td>\n",
       "      <td>-12.803639</td>\n",
       "      <td>...</td>\n",
       "      <td>-12.803639</td>\n",
       "      <td>-12.803639</td>\n",
       "      <td>-12.803639</td>\n",
       "      <td>-12.803639</td>\n",
       "      <td>-12.803639</td>\n",
       "      <td>-1.852815</td>\n",
       "      <td>-12.803639</td>\n",
       "      <td>-12.803639</td>\n",
       "      <td>-12.803639</td>\n",
       "      <td>-12.803639</td>\n",
       "    </tr>\n",
       "    <tr>\n",
       "      <th>B-GENDER</th>\n",
       "      <td>-13.429168</td>\n",
       "      <td>-0.394542</td>\n",
       "      <td>-13.429168</td>\n",
       "      <td>-13.429168</td>\n",
       "      <td>-13.429168</td>\n",
       "      <td>-13.429168</td>\n",
       "      <td>-13.429168</td>\n",
       "      <td>-13.429168</td>\n",
       "      <td>-13.429168</td>\n",
       "      <td>-2.807817</td>\n",
       "      <td>...</td>\n",
       "      <td>-13.429168</td>\n",
       "      <td>-2.832509</td>\n",
       "      <td>-13.429168</td>\n",
       "      <td>-13.429168</td>\n",
       "      <td>-13.429168</td>\n",
       "      <td>-13.429168</td>\n",
       "      <td>-13.429168</td>\n",
       "      <td>-13.429168</td>\n",
       "      <td>-13.429168</td>\n",
       "      <td>-13.429168</td>\n",
       "    </tr>\n",
       "    <tr>\n",
       "      <th>I-TRANSPORTATION</th>\n",
       "      <td>-12.228509</td>\n",
       "      <td>-1.277685</td>\n",
       "      <td>-12.228509</td>\n",
       "      <td>-12.228509</td>\n",
       "      <td>-12.228509</td>\n",
       "      <td>-12.228509</td>\n",
       "      <td>-12.228509</td>\n",
       "      <td>-12.228509</td>\n",
       "      <td>-12.228509</td>\n",
       "      <td>-12.228509</td>\n",
       "      <td>...</td>\n",
       "      <td>-12.228509</td>\n",
       "      <td>-12.228509</td>\n",
       "      <td>-12.228509</td>\n",
       "      <td>-12.228509</td>\n",
       "      <td>-12.228509</td>\n",
       "      <td>-3.018069</td>\n",
       "      <td>-12.228509</td>\n",
       "      <td>-12.228509</td>\n",
       "      <td>-12.228509</td>\n",
       "      <td>-12.228509</td>\n",
       "    </tr>\n",
       "    <tr>\n",
       "      <th>I-JOB</th>\n",
       "      <td>-12.203760</td>\n",
       "      <td>-1.769615</td>\n",
       "      <td>-5.295005</td>\n",
       "      <td>-12.203760</td>\n",
       "      <td>-12.203760</td>\n",
       "      <td>-12.203760</td>\n",
       "      <td>-4.197059</td>\n",
       "      <td>-12.203760</td>\n",
       "      <td>-12.203760</td>\n",
       "      <td>-4.197059</td>\n",
       "      <td>...</td>\n",
       "      <td>-12.203760</td>\n",
       "      <td>-12.203760</td>\n",
       "      <td>-12.203760</td>\n",
       "      <td>-12.203760</td>\n",
       "      <td>-12.203760</td>\n",
       "      <td>-12.203760</td>\n",
       "      <td>-2.251435</td>\n",
       "      <td>-12.203760</td>\n",
       "      <td>-12.203760</td>\n",
       "      <td>-12.203760</td>\n",
       "    </tr>\n",
       "    <tr>\n",
       "      <th>I-NAME</th>\n",
       "      <td>-11.921971</td>\n",
       "      <td>-2.934649</td>\n",
       "      <td>-11.921971</td>\n",
       "      <td>-11.921971</td>\n",
       "      <td>-11.921971</td>\n",
       "      <td>-11.921971</td>\n",
       "      <td>-11.921971</td>\n",
       "      <td>-11.921971</td>\n",
       "      <td>-11.921971</td>\n",
       "      <td>-11.921971</td>\n",
       "      <td>...</td>\n",
       "      <td>-11.921971</td>\n",
       "      <td>-11.921971</td>\n",
       "      <td>-11.921971</td>\n",
       "      <td>-11.921971</td>\n",
       "      <td>-11.921971</td>\n",
       "      <td>-11.921971</td>\n",
       "      <td>-11.921971</td>\n",
       "      <td>-11.921971</td>\n",
       "      <td>-11.921971</td>\n",
       "      <td>-11.921971</td>\n",
       "    </tr>\n",
       "    <tr>\n",
       "      <th>I-AGE</th>\n",
       "      <td>-11.846092</td>\n",
       "      <td>-4.244690</td>\n",
       "      <td>-11.846092</td>\n",
       "      <td>-11.846092</td>\n",
       "      <td>-11.846092</td>\n",
       "      <td>-11.846092</td>\n",
       "      <td>-11.846092</td>\n",
       "      <td>-11.846092</td>\n",
       "      <td>-11.846092</td>\n",
       "      <td>-11.846092</td>\n",
       "      <td>...</td>\n",
       "      <td>-11.846092</td>\n",
       "      <td>-11.846092</td>\n",
       "      <td>-11.846092</td>\n",
       "      <td>-11.846092</td>\n",
       "      <td>-11.846092</td>\n",
       "      <td>-11.846092</td>\n",
       "      <td>-11.846092</td>\n",
       "      <td>-11.846092</td>\n",
       "      <td>-11.846092</td>\n",
       "      <td>-11.846092</td>\n",
       "    </tr>\n",
       "    <tr>\n",
       "      <th>I-PATIENT_ID</th>\n",
       "      <td>-11.908596</td>\n",
       "      <td>-3.391203</td>\n",
       "      <td>-4.999841</td>\n",
       "      <td>-11.908596</td>\n",
       "      <td>-11.908596</td>\n",
       "      <td>-11.908596</td>\n",
       "      <td>-11.908596</td>\n",
       "      <td>-11.908596</td>\n",
       "      <td>-11.908596</td>\n",
       "      <td>-11.908596</td>\n",
       "      <td>...</td>\n",
       "      <td>-11.908596</td>\n",
       "      <td>-11.908596</td>\n",
       "      <td>-11.908596</td>\n",
       "      <td>-11.908596</td>\n",
       "      <td>-11.908596</td>\n",
       "      <td>-11.908596</td>\n",
       "      <td>-11.908596</td>\n",
       "      <td>-11.908596</td>\n",
       "      <td>-11.908596</td>\n",
       "      <td>-3.391203</td>\n",
       "    </tr>\n",
       "  </tbody>\n",
       "</table>\n",
       "<p>21 rows × 21 columns</p>\n",
       "</div>"
      ],
      "text/plain": [
       "                              T0         O  B-ORGANIZATION  I-ORGANIZATION  \\\n",
       "T0                    -15.457326 -0.081988       -3.474391      -15.457326   \n",
       "O                     -18.468399 -0.216267       -4.691628      -18.468399   \n",
       "B-ORGANIZATION        -14.058094 -3.258498      -14.058094       -0.159161   \n",
       "I-ORGANIZATION        -14.802274 -0.910728      -14.802274       -0.609697   \n",
       "B-SYMPTOM_AND_DISEASE -14.270742 -1.201777      -14.270742      -14.270742   \n",
       "I-SYMPTOM_AND_DISEASE -14.339966 -0.570498      -14.339966      -14.339966   \n",
       "B-LOCATION            -15.526699 -0.860610       -8.617945      -15.526699   \n",
       "B-DATE                -14.803764 -0.729742       -7.895009      -14.803764   \n",
       "B-PATIENT_ID          -15.032658 -0.050253      -15.032658      -15.032658   \n",
       "B-AGE                 -13.616496 -0.186646      -13.616496      -13.616496   \n",
       "B-NAME                -13.095070 -0.391254      -13.095070      -13.095070   \n",
       "I-DATE                -14.785356 -0.753928       -6.267963      -14.785356   \n",
       "B-JOB                 -12.744138 -1.008061       -4.044456      -12.744138   \n",
       "I-LOCATION            -15.498113 -0.585658      -15.498113      -15.498113   \n",
       "B-TRANSPORTATION      -12.803639 -0.796011      -12.803639      -12.803639   \n",
       "B-GENDER              -13.429168 -0.394542      -13.429168      -13.429168   \n",
       "I-TRANSPORTATION      -12.228509 -1.277685      -12.228509      -12.228509   \n",
       "I-JOB                 -12.203760 -1.769615       -5.295005      -12.203760   \n",
       "I-NAME                -11.921971 -2.934649      -11.921971      -11.921971   \n",
       "I-AGE                 -11.846092 -4.244690      -11.846092      -11.846092   \n",
       "I-PATIENT_ID          -11.908596 -3.391203       -4.999841      -11.908596   \n",
       "\n",
       "                       B-SYMPTOM_AND_DISEASE  I-SYMPTOM_AND_DISEASE  \\\n",
       "T0                                 -8.548571             -15.457326   \n",
       "O                                  -4.298716             -18.468399   \n",
       "B-ORGANIZATION                    -14.058094             -14.058094   \n",
       "I-ORGANIZATION                    -14.802274             -14.802274   \n",
       "B-SYMPTOM_AND_DISEASE              -5.165651              -0.500228   \n",
       "I-SYMPTOM_AND_DISEASE             -14.339966              -1.041968   \n",
       "B-LOCATION                        -15.526699             -15.526699   \n",
       "B-DATE                             -7.895009             -14.803764   \n",
       "B-PATIENT_ID                      -15.032658             -15.032658   \n",
       "B-AGE                             -13.616496             -13.616496   \n",
       "B-NAME                             -5.088369             -13.095070   \n",
       "I-DATE                            -14.785356             -14.785356   \n",
       "B-JOB                             -12.744138             -12.744138   \n",
       "I-LOCATION                        -15.498113             -15.498113   \n",
       "B-TRANSPORTATION                  -12.803639             -12.803639   \n",
       "B-GENDER                          -13.429168             -13.429168   \n",
       "I-TRANSPORTATION                  -12.228509             -12.228509   \n",
       "I-JOB                             -12.203760             -12.203760   \n",
       "I-NAME                            -11.921971             -11.921971   \n",
       "I-AGE                             -11.846092             -11.846092   \n",
       "I-PATIENT_ID                      -11.908596             -11.908596   \n",
       "\n",
       "                       B-LOCATION     B-DATE  B-PATIENT_ID      B-AGE  ...  \\\n",
       "T0                      -4.180110  -8.548571     -7.163027 -15.457326  ...   \n",
       "O                       -2.986881  -3.718365     -3.478859  -5.114923  ...   \n",
       "B-ORGANIZATION         -14.058094 -14.058094    -14.058094 -14.058094  ...   \n",
       "I-ORGANIZATION          -7.893519 -14.802274    -14.802274 -14.802274  ...   \n",
       "B-SYMPTOM_AND_DISEASE  -14.270742 -14.270742    -14.270742 -14.270742  ...   \n",
       "I-SYMPTOM_AND_DISEASE  -14.339966 -14.339966    -14.339966 -14.339966  ...   \n",
       "B-LOCATION             -15.526699  -8.617945    -15.526699 -15.526699  ...   \n",
       "B-DATE                 -14.803764 -14.803764    -14.803764 -14.803764  ...   \n",
       "B-PATIENT_ID           -15.032658 -15.032658    -15.032658 -15.032658  ...   \n",
       "B-AGE                  -13.616496 -13.616496    -13.616496 -13.616496  ...   \n",
       "B-NAME                 -13.095070 -13.095070    -13.095070 -13.095070  ...   \n",
       "I-DATE                  -6.491057 -14.785356    -14.785356 -14.785356  ...   \n",
       "B-JOB                   -3.890330 -12.744138     -5.835383  -3.756816  ...   \n",
       "I-LOCATION              -6.510791  -8.589358    -15.498113 -15.498113  ...   \n",
       "B-TRANSPORTATION        -4.286246 -12.803639    -12.803639 -12.803639  ...   \n",
       "B-GENDER               -13.429168 -13.429168    -13.429168  -2.807817  ...   \n",
       "I-TRANSPORTATION       -12.228509 -12.228509    -12.228509 -12.228509  ...   \n",
       "I-JOB                   -4.197059 -12.203760    -12.203760  -4.197059  ...   \n",
       "I-NAME                 -11.921971 -11.921971    -11.921971 -11.921971  ...   \n",
       "I-AGE                  -11.846092 -11.846092    -11.846092 -11.846092  ...   \n",
       "I-PATIENT_ID           -11.908596 -11.908596    -11.908596 -11.908596  ...   \n",
       "\n",
       "                          I-DATE      B-JOB  I-LOCATION  B-TRANSPORTATION  \\\n",
       "T0                    -15.457326  -7.450625  -15.457326        -15.457326   \n",
       "O                     -18.468399  -6.530200  -18.468399         -6.148993   \n",
       "B-ORGANIZATION        -14.058094 -14.058094  -14.058094         -7.149340   \n",
       "I-ORGANIZATION        -14.802274 -14.802274  -14.802274         -7.893519   \n",
       "B-SYMPTOM_AND_DISEASE -14.270742 -14.270742  -14.270742        -14.270742   \n",
       "I-SYMPTOM_AND_DISEASE -14.339966 -14.339966  -14.339966        -14.339966   \n",
       "B-LOCATION            -15.526699 -15.526699   -0.606263        -15.526699   \n",
       "B-DATE                 -0.764309 -14.803764  -14.803764        -14.803764   \n",
       "B-PATIENT_ID          -15.032658  -5.927567  -15.032658        -15.032658   \n",
       "B-AGE                 -13.616496 -13.616496  -13.616496        -13.616496   \n",
       "B-NAME                -13.095070 -13.095070  -13.095070        -13.095070   \n",
       "I-DATE                 -0.747502 -14.785356  -14.785356        -14.785356   \n",
       "B-JOB                 -12.744138 -12.744138  -12.744138        -12.744138   \n",
       "I-LOCATION            -15.498113 -15.498113   -0.883744        -15.498113   \n",
       "B-TRANSPORTATION      -12.803639 -12.803639  -12.803639        -12.803639   \n",
       "B-GENDER              -13.429168  -2.832509  -13.429168        -13.429168   \n",
       "I-TRANSPORTATION      -12.228509 -12.228509  -12.228509        -12.228509   \n",
       "I-JOB                 -12.203760 -12.203760  -12.203760        -12.203760   \n",
       "I-NAME                -11.921971 -11.921971  -11.921971        -11.921971   \n",
       "I-AGE                 -11.846092 -11.846092  -11.846092        -11.846092   \n",
       "I-PATIENT_ID          -11.908596 -11.908596  -11.908596        -11.908596   \n",
       "\n",
       "                        B-GENDER  I-TRANSPORTATION      I-JOB     I-NAME  \\\n",
       "T0                     -6.151585        -15.457326 -15.457326 -15.457326   \n",
       "O                      -5.289654        -18.468399 -18.468399 -18.468399   \n",
       "B-ORGANIZATION        -14.058094        -14.058094 -14.058094 -14.058094   \n",
       "I-ORGANIZATION        -14.802274        -14.802274 -14.802274 -14.802274   \n",
       "B-SYMPTOM_AND_DISEASE -14.270742        -14.270742 -14.270742 -14.270742   \n",
       "I-SYMPTOM_AND_DISEASE -14.339966        -14.339966 -14.339966 -14.339966   \n",
       "B-LOCATION            -15.526699        -15.526699 -15.526699 -15.526699   \n",
       "B-DATE                -14.803764        -14.803764 -14.803764 -14.803764   \n",
       "B-PATIENT_ID           -8.123903        -15.032658 -15.032658 -15.032658   \n",
       "B-AGE                 -13.616496        -13.616496 -13.616496 -13.616496   \n",
       "B-NAME                -13.095070        -13.095070 -13.095070  -3.622289   \n",
       "I-DATE                -14.785356        -14.785356 -14.785356 -14.785356   \n",
       "B-JOB                  -5.835383        -12.744138  -2.122786 -12.744138   \n",
       "I-LOCATION            -15.498113        -15.498113 -15.498113 -15.498113   \n",
       "B-TRANSPORTATION      -12.803639         -1.852815 -12.803639 -12.803639   \n",
       "B-GENDER              -13.429168        -13.429168 -13.429168 -13.429168   \n",
       "I-TRANSPORTATION      -12.228509         -3.018069 -12.228509 -12.228509   \n",
       "I-JOB                 -12.203760        -12.203760  -2.251435 -12.203760   \n",
       "I-NAME                -11.921971        -11.921971 -11.921971 -11.921971   \n",
       "I-AGE                 -11.846092        -11.846092 -11.846092 -11.846092   \n",
       "I-PATIENT_ID          -11.908596        -11.908596 -11.908596 -11.908596   \n",
       "\n",
       "                           I-AGE  I-PATIENT_ID  \n",
       "T0                    -15.457326    -15.457326  \n",
       "O                     -18.468399    -18.468399  \n",
       "B-ORGANIZATION        -14.058094    -14.058094  \n",
       "I-ORGANIZATION        -14.802274    -14.802274  \n",
       "B-SYMPTOM_AND_DISEASE -14.270742    -14.270742  \n",
       "I-SYMPTOM_AND_DISEASE -14.339966    -14.339966  \n",
       "B-LOCATION            -15.526699    -15.526699  \n",
       "B-DATE                -14.803764    -14.803764  \n",
       "B-PATIENT_ID          -15.032658     -6.332976  \n",
       "B-AGE                  -6.015094    -13.616496  \n",
       "B-NAME                -13.095070    -13.095070  \n",
       "I-DATE                -14.785356    -14.785356  \n",
       "B-JOB                 -12.744138    -12.744138  \n",
       "I-LOCATION            -15.498113    -15.498113  \n",
       "B-TRANSPORTATION      -12.803639    -12.803639  \n",
       "B-GENDER              -13.429168    -13.429168  \n",
       "I-TRANSPORTATION      -12.228509    -12.228509  \n",
       "I-JOB                 -12.203760    -12.203760  \n",
       "I-NAME                -11.921971    -11.921971  \n",
       "I-AGE                 -11.846092    -11.846092  \n",
       "I-PATIENT_ID          -11.908596     -3.391203  \n",
       "\n",
       "[21 rows x 21 columns]"
      ]
     },
     "execution_count": 11,
     "metadata": {},
     "output_type": "execute_result"
    }
   ],
   "source": [
    "# ma trận xác suất tag_tag\n",
    "tags_matrix = np.zeros((len(tags),len(tags)))\n",
    "for i in range(len(tags)):\n",
    "    for j in range(len(tags)):\n",
    "        tags_matrix[i][j] = p_tagtag(tags[i],tags[j])\n",
    "tags_df = pd.DataFrame(tags_matrix, columns = list(tags), index=list(tags))\n",
    "tags_df"
   ]
  },
  {
   "cell_type": "markdown",
   "id": "6907d2a3",
   "metadata": {},
   "source": [
    "## 2.2 Xây dựng thuật toán Viterbi"
   ]
  },
  {
   "cell_type": "code",
   "execution_count": 12,
   "metadata": {},
   "outputs": [],
   "source": [
    "# sử dụng thuật toán viterbi để gán nhãn cho câu sent\n",
    "def Viterbi(words, tag_keys = tags):\n",
    "    state = []\n",
    "    for i, word in enumerate(words):\n",
    "        p = []\n",
    "        for tag in tag_keys:\n",
    "            if i == 0:\n",
    "                 transition_p = tags_df.loc['T0', tag]\n",
    "            else:\n",
    "                transition_p = tags_df.loc[state[-1], tag]\n",
    "            \n",
    "            emission_p = p_wordtag(word,tag)\n",
    "            state_probability = emission_p + transition_p    \n",
    "            p.append(state_probability)\n",
    "             \n",
    "        pmax = max(p)\n",
    "\n",
    "        state_max = tag_keys[p.index(pmax)] \n",
    "        state.append(state_max)\n",
    "    \n",
    "    return list(zip(words, state))"
   ]
  },
  {
   "cell_type": "markdown",
   "id": "567c8a9c",
   "metadata": {},
   "source": [
    "## 2.3 Dự đoán"
   ]
  },
  {
   "cell_type": "code",
   "execution_count": 13,
   "id": "a05a8002",
   "metadata": {},
   "outputs": [],
   "source": [
    "# Testing\n",
    "#test\n",
    "y_pred_test_HMM = []\n",
    "for test_sent in test_sentences:\n",
    "    y_pred_test_HMM.append([word_state[1] for word_state in Viterbi(test_sent)])\n",
    "#train\n",
    "y_pred_train_HMM = []\n",
    "for train_sent in train_sentences:\n",
    "    y_pred_train_HMM.append([word_state[1] for word_state in Viterbi(train_sent)])"
   ]
  },
  {
   "cell_type": "markdown",
   "id": "16798ab8",
   "metadata": {},
   "source": [
    "## 2.4 Đánh giá mô hình"
   ]
  },
  {
   "cell_type": "code",
   "execution_count": 14,
   "id": "ca222e81",
   "metadata": {},
   "outputs": [],
   "source": [
    "# test\n",
    "y_test_tag_HMM = [tag for sent_tags in test_tags for tag in sent_tags]\n",
    "y_pred_test_tag_HMM = [tag for sent_tags in y_pred_test_HMM for tag in sent_tags]\n",
    "# tag\n",
    "y_train_tag_HMM = [tag for sent_tags in train_tags for tag in sent_tags]\n",
    "y_pred_train_tag_HMM = [tag for sent_tags in y_pred_train_HMM for tag in sent_tags]"
   ]
  },
  {
   "cell_type": "code",
   "execution_count": 15,
   "id": "1fafd130",
   "metadata": {},
   "outputs": [
    {
     "name": "stdout",
     "output_type": "stream",
     "text": [
      "(Test) accuracy_score 0.897663344149023\n",
      "(Test) f1_score 0.8984869898383883\n",
      "(Train) accuracy_score 0.9452800144893632\n",
      "(Train) f1_score 0.9444285666599012\n"
     ]
    }
   ],
   "source": [
    "# test\n",
    "acc_test_HMM = accuracy_score(y_test_tag_HMM, y_pred_test_tag_HMM)\n",
    "f1_test_HMM = f1_score(y_test_tag_HMM, y_pred_test_tag_HMM, average='weighted')\n",
    "#train\n",
    "acc_train_HMM = accuracy_score(y_train_tag_HMM, y_pred_train_tag_HMM)\n",
    "f1_train_HMM = f1_score(y_train_tag_HMM, y_pred_train_tag_HMM, average='weighted')\n",
    "\n",
    "print('(Test) accuracy_score', acc_test_HMM)\n",
    "print('(Test) f1_score', f1_test_HMM)\n",
    "print('(Train) accuracy_score', acc_train_HMM)\n",
    "print('(Train) f1_score', f1_train_HMM)"
   ]
  },
  {
   "cell_type": "code",
   "execution_count": 16,
   "id": "197e9a8a",
   "metadata": {},
   "outputs": [],
   "source": [
    "compare_model = {} \n",
    "compare_model['HMM'] = {'acc_test': acc_test_HMM, \n",
    "                        'f1_test': f1_test_HMM,\n",
    "                        'acc_train': acc_train_HMM,\n",
    "                        'f1_train': f1_train_HMM}"
   ]
  },
  {
   "cell_type": "markdown",
   "id": "f107014f",
   "metadata": {},
   "source": [
    "## 2.5 Xây dựng hàm gán nhãn cho từng câu với HMM"
   ]
  },
  {
   "cell_type": "code",
   "execution_count": 17,
   "metadata": {},
   "outputs": [
    {
     "data": {
      "text/plain": [
       "[('Số', 'O'),\n",
       " ('bệnh_viện', 'O'),\n",
       " ('có_thể', 'O'),\n",
       " ('tiếp_nhận', 'O'),\n",
       " ('bệnh_nhân', 'O'),\n",
       " ('bị', 'O'),\n",
       " ('sốt', 'B-SYMPTOM_AND_DISEASE'),\n",
       " ('cao', 'I-SYMPTOM_AND_DISEASE'),\n",
       " ('và', 'O'),\n",
       " ('khó', 'B-SYMPTOM_AND_DISEASE'),\n",
       " ('thở', 'I-SYMPTOM_AND_DISEASE'),\n",
       " ('đang', 'O'),\n",
       " ('giảm', 'O'),\n",
       " ('dần', 'O'),\n",
       " ('.', 'O')]"
      ]
     },
     "execution_count": 17,
     "metadata": {},
     "output_type": "execute_result"
    }
   ],
   "source": [
    "def NER_HMM(sent):\n",
    "    words = word_tokenize(sent, format='text').split()\n",
    "    return Viterbi(words)\n",
    "sent = 'Số bệnh viện có thể tiếp nhận bệnh nhân bị sốt cao và khó thở đang giảm dần.'\n",
    "NER_HMM(sent)"
   ]
  },
  {
   "cell_type": "markdown",
   "id": "ffc2e61e",
   "metadata": {},
   "source": [
    "# 3. CRF - Conditional Random Field"
   ]
  },
  {
   "cell_type": "markdown",
   "id": "a9bbd7c7",
   "metadata": {},
   "source": [
    "## 3.1 Tiền xử lý dữ liệu"
   ]
  },
  {
   "cell_type": "code",
   "execution_count": 5,
   "id": "3bfe6ea6",
   "metadata": {},
   "outputs": [],
   "source": [
    "def features(sentence,index):\n",
    "    return {\n",
    "        'is_first_capital':int(sentence[index][0].isupper()),\n",
    "        'is_first_word': int(index==0),\n",
    "        'is_last_word':int(index==len(sentence)-1),\n",
    "        'is_complete_capital': int(sentence[index].upper()==sentence[index]),\n",
    "        'prev_word':'' if index==0 else sentence[index-1],\n",
    "        'next_word':'' if index==len(sentence)-1 else sentence[index+1],\n",
    "        'is_numeric':int(sentence[index].isdigit()),\n",
    "        'is_alphanumeric': int(bool((re.match('^(?=.*[0-9]$)(?=.*[a-zA-Z])',sentence[index]))))\n",
    "    }"
   ]
  },
  {
   "cell_type": "code",
   "execution_count": 6,
   "id": "37052765",
   "metadata": {},
   "outputs": [],
   "source": [
    "def prepareData(tagged_sentences):\n",
    "    X=[]\n",
    "    for sentences in tagged_sentences:\n",
    "        X.append([features(sentences, index) for index in range(len(sentences))])\n",
    "    return X"
   ]
  },
  {
   "cell_type": "code",
   "execution_count": 20,
   "id": "6f739aa4",
   "metadata": {},
   "outputs": [],
   "source": [
    "X_train_CRF = prepareData(train_sentences)\n",
    "y_train_CRF = train_tags\n",
    "X_test_CRF = prepareData(test_sentences)\n",
    "y_test_CRF =  test_tags"
   ]
  },
  {
   "cell_type": "code",
   "execution_count": 21,
   "id": "11f8773d",
   "metadata": {},
   "outputs": [],
   "source": [
    "def prepareData(tagged_sentences):\n",
    "    X=[]\n",
    "    for sentences in tagged_sentences:\n",
    "        X.append([features(sentences, index) for index in range(len(sentences))])\n",
    "    return X\n",
    "    \n",
    "X_train_CRF = prepareData(train_sentences)\n",
    "y_train_CRF = train_tags\n",
    "X_test_CRF = prepareData(test_sentences)\n",
    "y_test_CRF =  test_tags"
   ]
  },
  {
   "cell_type": "markdown",
   "id": "de9429dc",
   "metadata": {},
   "source": [
    "## 3.2 Xây dựng mô hình CRF và huấn luyện mô hình"
   ]
  },
  {
   "cell_type": "code",
   "execution_count": 22,
   "id": "aebda401",
   "metadata": {},
   "outputs": [],
   "source": [
    "from sklearn_crfsuite import CRF\n",
    "\n",
    "crf = CRF(\n",
    "    algorithm='lbfgs',\n",
    "    c1=0.01,\n",
    "    c2=0.1,\n",
    "    max_iterations=100,\n",
    "    all_possible_transitions=True\n",
    ")\n",
    "\n",
    "try:\n",
    "    crf.fit(X_train_CRF, y_train_CRF)\n",
    "except AttributeError:\n",
    "    pass"
   ]
  },
  {
   "cell_type": "markdown",
   "id": "dea3fd31",
   "metadata": {},
   "source": [
    "## 3.3 Dự đoán"
   ]
  },
  {
   "cell_type": "code",
   "execution_count": 23,
   "id": "f01803e2",
   "metadata": {},
   "outputs": [],
   "source": [
    "y_pred_test_CRF = crf.predict(X_test_CRF)\n",
    "y_pred_train_CRF = crf.predict(X_train_CRF)"
   ]
  },
  {
   "cell_type": "markdown",
   "id": "39ec6b5f",
   "metadata": {},
   "source": [
    "## 3.4 Đánh giá mô hình"
   ]
  },
  {
   "cell_type": "code",
   "execution_count": 24,
   "id": "e568a581",
   "metadata": {},
   "outputs": [
    {
     "name": "stdout",
     "output_type": "stream",
     "text": [
      "(Test) accuracy_score 0.9466023950138892\n",
      "(Test) f1_score 0.9430494853065852\n",
      "(Train) accuracy_score 0.9820014942155746\n",
      "(Train) f1_score 0.9811605375456165\n"
     ]
    }
   ],
   "source": [
    "from sklearn_crfsuite import metrics, scorers\n",
    "\n",
    "# test\n",
    "acc_test_CRF = metrics.flat_accuracy_score(y_test_CRF, y_pred_test_CRF)\n",
    "f1_test_CRF = metrics.flat_f1_score(y_test_CRF, y_pred_test_CRF,average='weighted',labels=crf.classes_)\n",
    "#train\n",
    "acc_train_CRF = metrics.flat_accuracy_score(y_train_CRF, y_pred_train_CRF)\n",
    "f1_train_CRF = metrics.flat_f1_score(y_train_CRF, y_pred_train_CRF,average='weighted',labels=crf.classes_)\n",
    "\n",
    "print('(Test) accuracy_score', acc_test_CRF)\n",
    "print('(Test) f1_score', f1_test_CRF)\n",
    "print('(Train) accuracy_score', acc_train_CRF)\n",
    "print('(Train) f1_score', f1_train_CRF)"
   ]
  },
  {
   "cell_type": "code",
   "execution_count": 25,
   "id": "1da9f640",
   "metadata": {},
   "outputs": [],
   "source": [
    "compare_model['CRF'] = {'acc_test': acc_test_CRF, \n",
    "                        'f1_test': f1_test_CRF,\n",
    "                        'acc_train': acc_train_CRF,\n",
    "                        'f1_train': f1_train_CRF}"
   ]
  },
  {
   "cell_type": "markdown",
   "id": "af0eb6ab",
   "metadata": {},
   "source": [
    "## 3.5 Xây dựng hàm gán nhãn cho từng câu với CRF"
   ]
  },
  {
   "cell_type": "code",
   "execution_count": 26,
   "id": "aedc2328",
   "metadata": {},
   "outputs": [
    {
     "data": {
      "text/plain": [
       "[('Số', 'O'),\n",
       " ('bệnh_viện', 'O'),\n",
       " ('có_thể', 'O'),\n",
       " ('tiếp_nhận', 'O'),\n",
       " ('bệnh_nhân', 'O'),\n",
       " ('bị', 'O'),\n",
       " ('sốt', 'B-SYMPTOM_AND_DISEASE'),\n",
       " ('cao', 'I-SYMPTOM_AND_DISEASE'),\n",
       " ('và', 'O'),\n",
       " ('khó', 'B-SYMPTOM_AND_DISEASE'),\n",
       " ('thở', 'I-SYMPTOM_AND_DISEASE'),\n",
       " ('đang', 'O'),\n",
       " ('giảm', 'O'),\n",
       " ('dần', 'O'),\n",
       " ('.', 'O')]"
      ]
     },
     "execution_count": 26,
     "metadata": {},
     "output_type": "execute_result"
    }
   ],
   "source": [
    "def NER_CRF(sent):\n",
    "    words = word_tokenize(sent, format='text').split()\n",
    "    x_data = prepareData([words])\n",
    "    y_pred = crf.predict(x_data)\n",
    "    return list(zip(words, y_pred[0]))\n",
    "\n",
    "sent = 'Số bệnh viện có thể tiếp nhận bệnh nhân bị sốt cao và khó thở đang giảm dần.'\n",
    "NER_CRF(sent)"
   ]
  },
  {
   "cell_type": "markdown",
   "id": "49e98386",
   "metadata": {},
   "source": [
    "# 4. Logistic Regression"
   ]
  },
  {
   "cell_type": "markdown",
   "id": "a625989f",
   "metadata": {},
   "source": [
    "## 4.1 Tiền xử lý dữ liệu"
   ]
  },
  {
   "cell_type": "code",
   "execution_count": 9,
   "id": "92d0d807",
   "metadata": {},
   "outputs": [
    {
     "name": "stdout",
     "output_type": "stream",
     "text": [
      "['Đồng_thời', ',', 'bệnh_viện', 'tiếp_tục', 'thực_hiện', 'các', 'biện_pháp', 'phòng_chống', 'dịch_bệnh', 'COVID', '-', '19', 'theo', 'hướng_dẫn', 'của', 'Bộ', 'Y_tế', '.']\n"
     ]
    }
   ],
   "source": [
    "print(train_sentences[0])"
   ]
  },
  {
   "cell_type": "code",
   "execution_count": 27,
   "id": "d9812c97",
   "metadata": {},
   "outputs": [],
   "source": [
    "X_train_features_LR = [dict for sent in prepareData(train_sentences) for dict in sent]\n",
    "X_test_features_LR = [dict for sent in prepareData(test_sentences) for dict in sent]"
   ]
  },
  {
   "cell_type": "code",
   "execution_count": 28,
   "id": "36a74c42",
   "metadata": {},
   "outputs": [],
   "source": [
    "from sklearn.feature_extraction import DictVectorizer\n",
    "\n",
    "vec = DictVectorizer()\n",
    "X_train_LR = vec.fit_transform(X_train_features_LR)\n",
    "X_test_LR = vec.transform(X_test_features_LR)\n",
    "\n",
    "y_train_LR = [tag for label in train_tags for tag in label]\n",
    "y_test_LR = [tag for label in test_tags for tag in label]"
   ]
  },
  {
   "cell_type": "markdown",
   "id": "213a0570",
   "metadata": {},
   "source": [
    "## 4.2 Xây dựng và huấn luyện mô hình LogisticRegression"
   ]
  },
  {
   "cell_type": "code",
   "execution_count": 29,
   "id": "018d1404",
   "metadata": {},
   "outputs": [
    {
     "data": {
      "text/html": [
       "<style>#sk-container-id-1 {color: black;background-color: white;}#sk-container-id-1 pre{padding: 0;}#sk-container-id-1 div.sk-toggleable {background-color: white;}#sk-container-id-1 label.sk-toggleable__label {cursor: pointer;display: block;width: 100%;margin-bottom: 0;padding: 0.3em;box-sizing: border-box;text-align: center;}#sk-container-id-1 label.sk-toggleable__label-arrow:before {content: \"▸\";float: left;margin-right: 0.25em;color: #696969;}#sk-container-id-1 label.sk-toggleable__label-arrow:hover:before {color: black;}#sk-container-id-1 div.sk-estimator:hover label.sk-toggleable__label-arrow:before {color: black;}#sk-container-id-1 div.sk-toggleable__content {max-height: 0;max-width: 0;overflow: hidden;text-align: left;background-color: #f0f8ff;}#sk-container-id-1 div.sk-toggleable__content pre {margin: 0.2em;color: black;border-radius: 0.25em;background-color: #f0f8ff;}#sk-container-id-1 input.sk-toggleable__control:checked~div.sk-toggleable__content {max-height: 200px;max-width: 100%;overflow: auto;}#sk-container-id-1 input.sk-toggleable__control:checked~label.sk-toggleable__label-arrow:before {content: \"▾\";}#sk-container-id-1 div.sk-estimator input.sk-toggleable__control:checked~label.sk-toggleable__label {background-color: #d4ebff;}#sk-container-id-1 div.sk-label input.sk-toggleable__control:checked~label.sk-toggleable__label {background-color: #d4ebff;}#sk-container-id-1 input.sk-hidden--visually {border: 0;clip: rect(1px 1px 1px 1px);clip: rect(1px, 1px, 1px, 1px);height: 1px;margin: -1px;overflow: hidden;padding: 0;position: absolute;width: 1px;}#sk-container-id-1 div.sk-estimator {font-family: monospace;background-color: #f0f8ff;border: 1px dotted black;border-radius: 0.25em;box-sizing: border-box;margin-bottom: 0.5em;}#sk-container-id-1 div.sk-estimator:hover {background-color: #d4ebff;}#sk-container-id-1 div.sk-parallel-item::after {content: \"\";width: 100%;border-bottom: 1px solid gray;flex-grow: 1;}#sk-container-id-1 div.sk-label:hover label.sk-toggleable__label {background-color: #d4ebff;}#sk-container-id-1 div.sk-serial::before {content: \"\";position: absolute;border-left: 1px solid gray;box-sizing: border-box;top: 0;bottom: 0;left: 50%;z-index: 0;}#sk-container-id-1 div.sk-serial {display: flex;flex-direction: column;align-items: center;background-color: white;padding-right: 0.2em;padding-left: 0.2em;position: relative;}#sk-container-id-1 div.sk-item {position: relative;z-index: 1;}#sk-container-id-1 div.sk-parallel {display: flex;align-items: stretch;justify-content: center;background-color: white;position: relative;}#sk-container-id-1 div.sk-item::before, #sk-container-id-1 div.sk-parallel-item::before {content: \"\";position: absolute;border-left: 1px solid gray;box-sizing: border-box;top: 0;bottom: 0;left: 50%;z-index: -1;}#sk-container-id-1 div.sk-parallel-item {display: flex;flex-direction: column;z-index: 1;position: relative;background-color: white;}#sk-container-id-1 div.sk-parallel-item:first-child::after {align-self: flex-end;width: 50%;}#sk-container-id-1 div.sk-parallel-item:last-child::after {align-self: flex-start;width: 50%;}#sk-container-id-1 div.sk-parallel-item:only-child::after {width: 0;}#sk-container-id-1 div.sk-dashed-wrapped {border: 1px dashed gray;margin: 0 0.4em 0.5em 0.4em;box-sizing: border-box;padding-bottom: 0.4em;background-color: white;}#sk-container-id-1 div.sk-label label {font-family: monospace;font-weight: bold;display: inline-block;line-height: 1.2em;}#sk-container-id-1 div.sk-label-container {text-align: center;}#sk-container-id-1 div.sk-container {/* jupyter's `normalize.less` sets `[hidden] { display: none; }` but bootstrap.min.css set `[hidden] { display: none !important; }` so we also need the `!important` here to be able to override the default hidden behavior on the sphinx rendered scikit-learn.org. See: https://github.com/scikit-learn/scikit-learn/issues/21755 */display: inline-block !important;position: relative;}#sk-container-id-1 div.sk-text-repr-fallback {display: none;}</style><div id=\"sk-container-id-1\" class=\"sk-top-container\"><div class=\"sk-text-repr-fallback\"><pre>LogisticRegression()</pre><b>In a Jupyter environment, please rerun this cell to show the HTML representation or trust the notebook. <br />On GitHub, the HTML representation is unable to render, please try loading this page with nbviewer.org.</b></div><div class=\"sk-container\" hidden><div class=\"sk-item\"><div class=\"sk-estimator sk-toggleable\"><input class=\"sk-toggleable__control sk-hidden--visually\" id=\"sk-estimator-id-1\" type=\"checkbox\" checked><label for=\"sk-estimator-id-1\" class=\"sk-toggleable__label sk-toggleable__label-arrow\">LogisticRegression</label><div class=\"sk-toggleable__content\"><pre>LogisticRegression()</pre></div></div></div></div></div>"
      ],
      "text/plain": [
       "LogisticRegression()"
      ]
     },
     "execution_count": 29,
     "metadata": {},
     "output_type": "execute_result"
    }
   ],
   "source": [
    "from sklearn.linear_model import LogisticRegression\n",
    "\n",
    "LR = LogisticRegression()\n",
    "LR.fit(X_train_LR, y_train_LR)"
   ]
  },
  {
   "cell_type": "markdown",
   "id": "87fe7bc0",
   "metadata": {},
   "source": [
    "## 4.3 Dự đoán"
   ]
  },
  {
   "cell_type": "code",
   "execution_count": 30,
   "id": "e1e256fb",
   "metadata": {},
   "outputs": [],
   "source": [
    "y_pred_test_LR = LR.predict(X_test_LR)\n",
    "y_pred_train_LR = LR.predict(X_train_LR)"
   ]
  },
  {
   "cell_type": "markdown",
   "id": "2d8a4dc0",
   "metadata": {},
   "source": [
    "## 4.4 Đánh giá mô hình"
   ]
  },
  {
   "cell_type": "code",
   "execution_count": 31,
   "metadata": {},
   "outputs": [
    {
     "name": "stdout",
     "output_type": "stream",
     "text": [
      "(Test) accuracy_score 0.9156492915334158\n",
      "(Test) f1_score 0.9083005639921911\n",
      "(Train) accuracy_score 0.9516266574095735\n",
      "(Train) f1_score 0.9489099939909099\n"
     ]
    }
   ],
   "source": [
    "# test\n",
    "acc_test_LR = accuracy_score(y_test_LR, y_pred_test_LR)\n",
    "f1_test_LR = f1_score(y_test_LR, y_pred_test_LR, average='weighted')\n",
    "#train\n",
    "acc_train_LR = accuracy_score(y_train_LR, y_pred_train_LR)\n",
    "f1_train_LR = f1_score(y_train_LR, y_pred_train_LR, average='weighted')\n",
    "\n",
    "print('(Test) accuracy_score', acc_test_LR)\n",
    "print('(Test) f1_score', f1_test_LR)\n",
    "print('(Train) accuracy_score', acc_train_LR)\n",
    "print('(Train) f1_score', f1_train_LR)"
   ]
  },
  {
   "cell_type": "code",
   "execution_count": 32,
   "metadata": {},
   "outputs": [],
   "source": [
    "compare_model['LR'] = {'acc_test': acc_test_LR, \n",
    "                        'f1_test': f1_test_LR,\n",
    "                        'acc_train': acc_train_LR,\n",
    "                        'f1_train': f1_train_LR}"
   ]
  },
  {
   "cell_type": "markdown",
   "id": "082e9b25",
   "metadata": {},
   "source": [
    "## 4.5 Xây dựng hàm gán nhãn cho từng câu với LogisticRegression"
   ]
  },
  {
   "cell_type": "code",
   "execution_count": 33,
   "metadata": {},
   "outputs": [
    {
     "data": {
      "text/plain": [
       "[('Số', 'O'),\n",
       " ('bệnh_viện', 'O'),\n",
       " ('có_thể', 'O'),\n",
       " ('tiếp_nhận', 'O'),\n",
       " ('bệnh_nhân', 'O'),\n",
       " ('bị', 'O'),\n",
       " ('sốt', 'B-SYMPTOM_AND_DISEASE'),\n",
       " ('cao', 'I-SYMPTOM_AND_DISEASE'),\n",
       " ('và', 'O'),\n",
       " ('khó', 'B-SYMPTOM_AND_DISEASE'),\n",
       " ('thở', 'O'),\n",
       " ('đang', 'O'),\n",
       " ('giảm', 'O'),\n",
       " ('dần', 'O'),\n",
       " ('.', 'O')]"
      ]
     },
     "execution_count": 33,
     "metadata": {},
     "output_type": "execute_result"
    }
   ],
   "source": [
    "def NER_LR(sent):\n",
    "    words = word_tokenize(sent, format='text').split()\n",
    "    x_data = [dict for sent in prepareData([words]) for dict in sent]\n",
    "    x_data = vec.transform(x_data)\n",
    "    y_pred = LR.predict(x_data)\n",
    "    return list(zip(words, y_pred))\n",
    "\n",
    "sent = 'Số bệnh viện có thể tiếp nhận bệnh nhân bị sốt cao và khó thở đang giảm dần.'\n",
    "NER_LR(sent)"
   ]
  },
  {
   "cell_type": "markdown",
   "id": "7b46c138",
   "metadata": {},
   "source": [
    "# 5. So sánh các mô hình"
   ]
  },
  {
   "cell_type": "code",
   "execution_count": 34,
   "id": "1c5ae6a7",
   "metadata": {},
   "outputs": [
    {
     "data": {
      "text/html": [
       "<style type=\"text/css\">\n",
       "#T_7699c_row1_col0, #T_7699c_row1_col1, #T_7699c_row1_col2, #T_7699c_row1_col3 {\n",
       "  background-color: green;\n",
       "}\n",
       "</style>\n",
       "<table id=\"T_7699c\">\n",
       "  <thead>\n",
       "    <tr>\n",
       "      <th class=\"blank level0\" >&nbsp;</th>\n",
       "      <th id=\"T_7699c_level0_col0\" class=\"col_heading level0 col0\" >acc_test</th>\n",
       "      <th id=\"T_7699c_level0_col1\" class=\"col_heading level0 col1\" >f1_test</th>\n",
       "      <th id=\"T_7699c_level0_col2\" class=\"col_heading level0 col2\" >acc_train</th>\n",
       "      <th id=\"T_7699c_level0_col3\" class=\"col_heading level0 col3\" >f1_train</th>\n",
       "    </tr>\n",
       "  </thead>\n",
       "  <tbody>\n",
       "    <tr>\n",
       "      <th id=\"T_7699c_level0_row0\" class=\"row_heading level0 row0\" >HMM</th>\n",
       "      <td id=\"T_7699c_row0_col0\" class=\"data row0 col0\" >0.897663</td>\n",
       "      <td id=\"T_7699c_row0_col1\" class=\"data row0 col1\" >0.898487</td>\n",
       "      <td id=\"T_7699c_row0_col2\" class=\"data row0 col2\" >0.945280</td>\n",
       "      <td id=\"T_7699c_row0_col3\" class=\"data row0 col3\" >0.944429</td>\n",
       "    </tr>\n",
       "    <tr>\n",
       "      <th id=\"T_7699c_level0_row1\" class=\"row_heading level0 row1\" >CRF</th>\n",
       "      <td id=\"T_7699c_row1_col0\" class=\"data row1 col0\" >0.946602</td>\n",
       "      <td id=\"T_7699c_row1_col1\" class=\"data row1 col1\" >0.943049</td>\n",
       "      <td id=\"T_7699c_row1_col2\" class=\"data row1 col2\" >0.982001</td>\n",
       "      <td id=\"T_7699c_row1_col3\" class=\"data row1 col3\" >0.981161</td>\n",
       "    </tr>\n",
       "    <tr>\n",
       "      <th id=\"T_7699c_level0_row2\" class=\"row_heading level0 row2\" >LR</th>\n",
       "      <td id=\"T_7699c_row2_col0\" class=\"data row2 col0\" >0.915649</td>\n",
       "      <td id=\"T_7699c_row2_col1\" class=\"data row2 col1\" >0.908301</td>\n",
       "      <td id=\"T_7699c_row2_col2\" class=\"data row2 col2\" >0.951627</td>\n",
       "      <td id=\"T_7699c_row2_col3\" class=\"data row2 col3\" >0.948910</td>\n",
       "    </tr>\n",
       "  </tbody>\n",
       "</table>\n"
      ],
      "text/plain": [
       "<pandas.io.formats.style.Styler at 0x212b31a78b0>"
      ]
     },
     "execution_count": 34,
     "metadata": {},
     "output_type": "execute_result"
    }
   ],
   "source": [
    "df_compare = pd.DataFrame(compare_model).T\n",
    "df_compare.style.highlight_max(color = 'green', axis = 0)"
   ]
  },
  {
   "cell_type": "code",
   "execution_count": 35,
   "id": "0641c566",
   "metadata": {},
   "outputs": [
    {
     "data": {
      "text/plain": [
       "<AxesSubplot:>"
      ]
     },
     "execution_count": 35,
     "metadata": {},
     "output_type": "execute_result"
    },
    {
     "data": {
      "image/png": "[encoded data removed]",
      "text/plain": [
       "<Figure size 720x360 with 1 Axes>"
      ]
     },
     "metadata": {
      "needs_background": "light"
     },
     "output_type": "display_data"
    }
   ],
   "source": [
    "df_compare.plot(kind=\"bar\", figsize=(10,5), rot=0)"
   ]
  }
 ],
 "metadata": {
  "kernelspec": {
   "display_name": "Python 3 (ipykernel)",
   "language": "python",
   "name": "python3"
  },
  "language_info": {
   "codemirror_mode": {
    "name": "ipython",
    "version": 3
   },
   "file_extension": ".py",
   "mimetype": "text/x-python",
   "name": "python",
   "nbconvert_exporter": "python",
   "pygments_lexer": "ipython3",
   "version": "3.10.4"
  }
 },
 "nbformat": 4,
 "nbformat_minor": 5
}
